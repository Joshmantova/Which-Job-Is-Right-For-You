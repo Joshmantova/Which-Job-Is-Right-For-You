{
 "cells": [
  {
   "cell_type": "code",
   "execution_count": 58,
   "metadata": {},
   "outputs": [],
   "source": [
    "import spacy\n",
    "import pandas as pd\n",
    "import numpy as np\n",
    "import matplotlib.pyplot as plt\n",
    "from sklearn.cluster import KMeans\n",
    "from sklearn.metrics.pairwise import cosine_distances\n",
    "from sklearn.metrics.pairwise import euclidean_distances\n",
    "from sklearn.metrics import silhouette_score"
   ]
  },
  {
   "cell_type": "code",
   "execution_count": 32,
   "metadata": {},
   "outputs": [],
   "source": [
    "df = pd.read_csv('../Datasets/df_all_linkedin.csv')\n",
    "df.drop_duplicates('Description', inplace=True, keep='first')\n",
    "descriptions = df['Description'].values\n",
    "job_titles = df['Job_Title'].values"
   ]
  },
  {
   "cell_type": "code",
   "execution_count": 11,
   "metadata": {
    "scrolled": true
   },
   "outputs": [
    {
     "name": "stdout",
     "output_type": "stream",
     "text": [
      "Collecting en_core_web_lg==2.0.0\n",
      "  Downloading https://github.com/explosion/spacy-models/releases/download/en_core_web_lg-2.0.0/en_core_web_lg-2.0.0.tar.gz (852.3 MB)\n",
      "\u001b[K     |████████████████████████████████| 852.3 MB 21.5 MB/s eta 0:00:01\n",
      "\u001b[?25hBuilding wheels for collected packages: en-core-web-lg\n",
      "  Building wheel for en-core-web-lg (setup.py) ... \u001b[?25ldone\n",
      "\u001b[?25h  Created wheel for en-core-web-lg: filename=en_core_web_lg-2.0.0-py3-none-any.whl size=853631440 sha256=2410c23a1bf94fb7b80fdc4b4cf1173afd23dedcbb2265f680c3a0da7530bd6a\n",
      "  Stored in directory: /private/var/folders/cb/gx9lbmzn5rx4xh6bjrjny0sc0000gn/T/pip-ephem-wheel-cache-rnachwts/wheels/60/ce/b7/3a1fe6c3db223cef182f2f9247e62dfa3a94054f8ad8984244\n",
      "Successfully built en-core-web-lg\n",
      "Installing collected packages: en-core-web-lg\n",
      "Successfully installed en-core-web-lg-2.0.0\n",
      "\n",
      "\u001b[93m    Linking successful\u001b[0m\n",
      "    /Users/josh-mantovani/anaconda3/lib/python3.7/site-packages/en_core_web_lg\n",
      "    -->\n",
      "    /Users/josh-mantovani/anaconda3/lib/python3.7/site-packages/spacy/data/en_core_web_lg\n",
      "\n",
      "    You can now load the model via spacy.load('en_core_web_lg')\n",
      "\n"
     ]
    }
   ],
   "source": [
    "!python -m spacy download en_core_web_lg"
   ]
  },
  {
   "cell_type": "code",
   "execution_count": 12,
   "metadata": {},
   "outputs": [],
   "source": [
    "nlp = spacy.load('en_core_web_lg')"
   ]
  },
  {
   "cell_type": "code",
   "execution_count": 17,
   "metadata": {},
   "outputs": [
    {
     "data": {
      "text/plain": [
       "array([-5.83556145e-02,  1.26388252e-01, -6.27058893e-02, -6.24982081e-03,\n",
       "        7.61358440e-02,  4.69093397e-02,  8.73594079e-03, -4.35118712e-02,\n",
       "        2.48603206e-02,  1.87685049e+00, -1.83239758e-01,  1.54707693e-02,\n",
       "        1.35930553e-02,  7.87561946e-03, -4.91598509e-02, -1.70000885e-02,\n",
       "       -4.76536155e-02,  1.39459622e+00, -2.17775866e-01, -1.93194896e-02,\n",
       "       -7.72778993e-04, -2.40540393e-02, -1.39718622e-01, -6.69847801e-02,\n",
       "        8.22937936e-02,  6.66654930e-02,  2.73152292e-02,  3.70148346e-02,\n",
       "        8.92182067e-02, -3.65807526e-02,  3.09334858e-03, -1.68064944e-02,\n",
       "        3.91159467e-02,  4.56467308e-02,  5.22024669e-02, -9.14225131e-02,\n",
       "       -1.64294586e-04,  3.02323606e-02, -2.05676183e-02, -9.11581144e-02,\n",
       "       -1.07562426e-03,  4.35235687e-02, -1.36614349e-02, -2.16665305e-02,\n",
       "       -8.16280320e-02,  5.65693527e-02, -6.58482015e-02,  8.13517123e-02,\n",
       "        3.60876918e-02,  2.34042238e-02,  3.04940250e-02, -2.22779829e-02,\n",
       "        6.91513438e-03, -4.98722158e-02, -5.71715124e-02,  6.36020899e-02,\n",
       "       -3.17785218e-02, -3.23232077e-02,  8.24050326e-03, -6.68357015e-02,\n",
       "        4.50015366e-02, -3.53285181e-03, -2.34689340e-02,  1.52743995e-01,\n",
       "        1.43967584e-01, -4.64297011e-02,  2.25811340e-02,  7.07336590e-02,\n",
       "        1.24501847e-02,  7.39746317e-02,  2.14191508e-02,  2.93740202e-02,\n",
       "        1.15825683e-01, -4.66515869e-02,  6.05077334e-02,  3.65949273e-02,\n",
       "        6.74719065e-02, -5.87099604e-02,  3.30551900e-02,  1.59298018e-01,\n",
       "       -2.43438184e-02,  4.85603139e-02, -2.09572297e-02, -1.40751526e-02,\n",
       "       -9.01623536e-03, -1.27924785e-01, -2.17476442e-01,  9.84200090e-02,\n",
       "        2.19632328e-01,  1.65778641e-02, -1.08726740e-01, -5.11213066e-03,\n",
       "       -1.95261762e-02,  3.77979875e-02,  8.40342790e-02, -7.22895563e-02,\n",
       "       -3.94933708e-02, -1.59090403e-02, -8.71508499e-04, -7.98493810e-03,\n",
       "       -8.48497078e-03, -9.70100239e-03, -9.49158892e-02,  3.34909968e-02,\n",
       "        7.15300217e-02, -8.28395844e-01,  6.54345378e-02,  4.16517071e-02,\n",
       "        7.20223039e-02,  4.54545394e-02,  2.80997977e-02, -9.79775861e-02,\n",
       "        8.23110417e-02, -4.44893911e-02,  4.83440235e-03, -2.59641148e-02,\n",
       "        7.98768178e-02,  3.98733951e-02,  2.80726934e-03,  3.30649577e-02,\n",
       "        9.42467898e-02, -3.04601863e-02, -6.25551539e-03,  9.45565233e-04,\n",
       "        2.54948786e-03,  7.70895928e-02,  6.47984352e-03,  3.65449525e-02,\n",
       "        3.13695334e-02, -1.59491487e-02,  5.42036779e-02, -6.84891874e-03,\n",
       "       -9.68392938e-02, -2.48885974e-02,  3.17706652e-02,  3.92896533e-02,\n",
       "        1.39216892e-03, -3.96388993e-02,  8.42519253e-02,  3.65068279e-02,\n",
       "       -5.05878210e-01, -2.00373679e-02,  1.40002191e-01, -3.41841765e-02,\n",
       "       -3.47427391e-02, -4.53405418e-02,  2.36644316e-02, -1.77692482e-03,\n",
       "        1.34132011e-02, -5.94369359e-02,  3.03938054e-02, -2.35746405e-03,\n",
       "        5.69603704e-02,  4.65068072e-02, -3.52809168e-02,  5.89864850e-02,\n",
       "       -7.27380365e-02, -8.92307796e-03,  2.42388062e-02, -7.66503066e-02,\n",
       "       -4.75272629e-03,  3.85000929e-02, -3.40517350e-02, -1.10823900e-01,\n",
       "       -7.79803470e-02, -1.06450118e-01,  3.86002660e-02, -1.04093798e-01,\n",
       "        1.13516279e-01,  1.33070480e-02, -2.00311281e-02,  2.79518086e-02,\n",
       "        3.90161313e-02,  2.84655602e-03, -2.48426832e-02,  5.07430248e-02,\n",
       "       -6.16755337e-02,  2.42296737e-02,  6.76343068e-02, -5.00295497e-03,\n",
       "        4.37475741e-02, -3.73116396e-02, -3.58227715e-02, -5.18981665e-02,\n",
       "       -3.86838838e-02,  2.01014578e-02, -5.47872894e-02,  4.02097777e-02,\n",
       "        2.07825117e-02, -5.52171329e-03, -6.25257939e-02, -9.09457635e-03,\n",
       "       -7.30318110e-03,  9.93153974e-02,  2.84868618e-03,  1.25858933e-01,\n",
       "       -3.10525466e-02, -5.40789142e-02, -9.79753118e-03,  1.68126494e-01,\n",
       "        3.49780917e-02, -1.38417259e-01, -2.74789575e-02,  5.38404547e-02,\n",
       "        8.33595246e-02,  1.28830143e-03,  1.36087239e-02,  5.32173365e-02,\n",
       "        6.84590032e-03, -1.53122311e-02, -9.46633890e-02, -1.11033879e-01,\n",
       "       -1.67563464e-02, -8.58775377e-02,  3.25338542e-02,  1.15518600e-01,\n",
       "       -5.61856627e-02,  1.28888292e-02, -1.83235288e-01,  3.87444347e-02,\n",
       "       -1.79854296e-02,  1.40463272e-02, -4.40482982e-02,  1.09394103e-01,\n",
       "        1.35926381e-02,  9.17068869e-03,  4.85263132e-02,  2.42511518e-02,\n",
       "        3.33514698e-02,  3.72755341e-02, -1.47735476e-01,  2.87531577e-02,\n",
       "        1.99107435e-02,  9.39785093e-02, -6.07308671e-02, -3.83625031e-02,\n",
       "       -8.33806247e-02, -1.04701966e-01, -4.27218005e-02,  5.62007017e-02,\n",
       "        7.57176578e-02, -3.10472045e-02,  4.77880873e-02,  2.71096043e-02,\n",
       "        1.36055112e-01, -1.55849293e-01, -8.25659484e-02, -8.41102451e-02,\n",
       "       -1.18110254e-01,  1.07633499e-02,  7.90331811e-02,  5.25485054e-02,\n",
       "       -7.99302086e-02, -4.76478823e-02,  1.85771044e-02,  9.71841738e-02,\n",
       "        6.02886267e-02, -1.37955382e-01, -6.67984039e-02,  2.53499150e-02,\n",
       "        9.65383574e-02,  1.40010595e-01,  2.35777386e-02,  9.04491544e-02,\n",
       "        8.99717305e-03, -1.42418727e-01, -4.99435328e-02, -2.38140579e-02,\n",
       "        5.08733451e-01, -8.00937414e-02, -1.31313708e-02, -1.70326028e-02,\n",
       "       -2.76275948e-02, -1.23894967e-01, -9.21320543e-02, -6.92768721e-03,\n",
       "        4.11148369e-02,  7.88691267e-02,  1.07705398e-02,  1.19410388e-01,\n",
       "        1.02453969e-01,  6.02524988e-02,  5.98910525e-02, -5.40151866e-03,\n",
       "       -3.64649855e-02, -1.57554999e-01,  8.73905122e-02, -1.01475045e-01,\n",
       "        1.39822990e-01, -1.13068536e-01, -1.88646048e-01,  4.18069474e-02,\n",
       "        3.06198578e-02,  2.87095699e-02, -4.42705601e-02, -3.37949023e-02,\n",
       "       -3.97457927e-02, -4.50803749e-02, -3.65659669e-02,  5.76265305e-02],\n",
       "      dtype=float32)"
      ]
     },
     "execution_count": 17,
     "metadata": {},
     "output_type": "execute_result"
    }
   ],
   "source": [
    "nlp(descriptions[0]).vector"
   ]
  },
  {
   "cell_type": "code",
   "execution_count": 26,
   "metadata": {},
   "outputs": [],
   "source": [
    "vectorized_descriptions = []\n",
    "for descrip in descriptions:\n",
    "    vec = nlp(descrip).vector\n",
    "    vectorized_descriptions.append(vec)\n"
   ]
  },
  {
   "cell_type": "code",
   "execution_count": 38,
   "metadata": {},
   "outputs": [],
   "source": [
    "kmeans = KMeans(n_clusters=3, n_jobs=-1)\n",
    "kmeans.fit(vectorized_descriptions)\n",
    "cluster_centers = kmeans.cluster_centers_\n"
   ]
  },
  {
   "cell_type": "code",
   "execution_count": 52,
   "metadata": {},
   "outputs": [
    {
     "name": "stdout",
     "output_type": "stream",
     "text": [
      "\n",
      " Cluster representation: \n",
      "Data Scientist\n",
      "Senior Data Scientist\n",
      "Health Data Engineer/Architect\n",
      "Senior Data Engineer - Data Science\n",
      "Principal Researcher in Data Science for Power Systems (E6)\n",
      "\n",
      " least representative jobs: \n",
      "Data Scientist\n",
      "Data Scientist\n",
      "Data Scientist\n",
      "Senior Manager Data Science\n",
      "\n",
      " Cluster representation: \n",
      "Lead Data Science Engineer\n",
      "Data Scientist\n",
      "Intern - Software/ Data Science\n",
      "Manager of Data Science\n",
      "Data Scientist\n",
      "\n",
      " least representative jobs: \n",
      "Data Scientist\n",
      "Data Scientist\n",
      "Data Scientist\n",
      "Senior Manager Data Science\n",
      "\n",
      " Cluster representation: \n",
      "Business Intelligence Engineer\n",
      "CCIP Intern- Data Scientist Anly Intern\n",
      "Sr. Data Scientist, Forecasting\n",
      "Senior Data Scientist\n",
      "Lead Data Scientist - Automation Lab (PwC Labs)\n",
      "\n",
      " least representative jobs: \n",
      "Data Scientist\n",
      "Data Scientist -Tampa\n",
      "Insurance Data Scientist 86679\n",
      "Director of Data Science\n"
     ]
    }
   ],
   "source": [
    "for center in cluster_centers:\n",
    "    sim = euclidean_distances(center.reshape(1,-1), vectorized_descriptions)\n",
    "    order = np.argsort(sim)\n",
    "    print(f'\\n Cluster representation: ')\n",
    "#     print(order)\n",
    "    for o in order[0][:5]:\n",
    "        print(job_titles[o])\n",
    "    "
   ]
  },
  {
   "cell_type": "code",
   "execution_count": 56,
   "metadata": {},
   "outputs": [
    {
     "data": {
      "text/plain": [
       "0.11379015"
      ]
     },
     "execution_count": 56,
     "metadata": {},
     "output_type": "execute_result"
    }
   ],
   "source": [
    "silhouette_score(vectorized_descriptions, kmeans.labels_)"
   ]
  },
  {
   "cell_type": "code",
   "execution_count": 61,
   "metadata": {},
   "outputs": [],
   "source": [
    "k_values = [i for i in range(2,200)]\n",
    "ss_list = []\n",
    "for k in k_values:\n",
    "    kmeans = KMeans(n_clusters=k, n_jobs=-1)\n",
    "    kmeans.fit(vectorized_descriptions)\n",
    "    score = silhouette_score(vectorized_descriptions, kmeans.labels_)\n",
    "    ss_list.append(score)\n"
   ]
  },
  {
   "cell_type": "code",
   "execution_count": 62,
   "metadata": {},
   "outputs": [
    {
     "data": {
      "text/plain": [
       "[<matplotlib.lines.Line2D at 0x1a92aca0d0>]"
      ]
     },
     "execution_count": 62,
     "metadata": {},
     "output_type": "execute_result"
    },
    {
     "data": {
      "image/png": "[encoded data removed]",
      "text/plain": [
       "<Figure size 432x288 with 1 Axes>"
      ]
     },
     "metadata": {
      "needs_background": "light"
     },
     "output_type": "display_data"
    }
   ],
   "source": [
    "fig, ax = plt.subplots()\n",
    "ax.plot(k_values, ss_list)"
   ]
  },
  {
   "cell_type": "code",
   "execution_count": null,
   "metadata": {},
   "outputs": [],
   "source": []
  }
 ],
 "metadata": {
  "kernelspec": {
   "display_name": "Python 3",
   "language": "python",
   "name": "python3"
  },
  "language_info": {
   "codemirror_mode": {
    "name": "ipython",
    "version": 3
   },
   "file_extension": ".py",
   "mimetype": "text/x-python",
   "name": "python",
   "nbconvert_exporter": "python",
   "pygments_lexer": "ipython3",
   "version": "3.7.6"
  }
 },
 "nbformat": 4,
 "nbformat_minor": 4
}
