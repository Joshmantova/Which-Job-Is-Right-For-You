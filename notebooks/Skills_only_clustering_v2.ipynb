{
 "cells": [
  {
   "cell_type": "code",
   "execution_count": 25,
   "metadata": {},
   "outputs": [],
   "source": [
    "import pandas as pd\n",
    "import numpy as np\n",
    "from sklearn.metrics import jaccard_score"
   ]
  },
  {
   "cell_type": "code",
   "execution_count": 2,
   "metadata": {},
   "outputs": [],
   "source": [
    "df = pd.read_csv('../Datasets/df_all_linkedin.csv')"
   ]
  },
  {
   "cell_type": "code",
   "execution_count": 4,
   "metadata": {},
   "outputs": [],
   "source": [
    "descriptions = df['Description']"
   ]
  },
  {
   "cell_type": "code",
   "execution_count": 15,
   "metadata": {},
   "outputs": [
    {
     "data": {
      "text/plain": [
       "\"DutiesHelpDutiesSummaryYou will serve as a Computer Scientist in the DEPARTMENT OF THE NAVY.THIS IS AN EXPEDITED HIRING AUTHORITY ANNOUNCEMENT. The Duncan Hunter National Defense Authorization Act (NDAA) FY 2009 provides that the Secretary of Defense can designate acquisition positions as shortage positions and recruit and appoint highly qualified persons to these positions.Learn more about this agencyResponsibilities Duties and responsibilities vary and increase according to grade level.Travel RequiredOccasional travel - You may be expected to travel for this position.Supervisory statusNoPromotion PotentialNone Job family (Series)1550 Computer Science RequirementsHelpRequirementsConditions of Employment Must be a US Citizen. Must be determined suitable for federal employment. Must participate in the direct deposit pay program. New employees to the Department of the Navy will be required to successfully pass the E-Verify employment verification check. To learn more about E-Verify, including your rights and responsibilities, visit www.dhs.gov/E-Verify/. Within the Department of Defense (DoD), the appointment of retired military members within 180 days immediately following retirement date to a civilian position is subject to the provisions of 5 United States Code 3326. You may be required to successfully complete a pre-appointment physical examination. You may be required to obtain and maintain an interim and/or final security clearance prior to entrance on duty. Failure to obtain and maintain the required level of clearance may result in the withdrawal of a job offer or removal. This position is covered under the Defense Acquisition Workforce Improvement Act (DAWIA) and requires additional education, training and experience. Positions may be in any DAWIA Career Field at Level I, II, or III. This position may be designated Critical Acquisition Position (CAP). You must be a member of the Acquisition Corps, become a member, or obtain a waiver at the time of selection and sign a three-year tenure agreement prior to assuming the position. Successful completion of a pre-employment drug test (including marijuana) is required. A tentative offer of employment will be rescinded if you fail to report to the drug test appointment or pass the test. You may be subject to random testing. You may be required to complete ethics orientation within three months of appointment and submit a Confidential Financial Disclosure Report, OGE-450, within 30 days of appointment. Supervisors in the executive branch have a heightened personal responsibility for advancing government ethics. Those selected for a supervisory position will be required to review the 14 General Principles of Ethical Conduct at 5 CFR 2635.101. Position selected for may or may not be under a bargaining unit. Warrant authority above the small purchase threshold may be required. Positions may be eligible for part time, full time or ad-hoc telework at the discretion of management You may be required to complete training, obtain, and maintain a government credit card to make official government purchases for goods and services. You may be required to complete training, obtain, and maintain a government credit card for travel and travel-related purchases This position may require travel from normal duty station to CONUS and OCONUS and may include remote or isolated sites. You may need to travel on military and commercial aircraft for extended periods of time.QualificationsIn addition to the basic education requirements, applicants must meet the following minimum qualifications:For GS-05 (or equivalent pay band): Your resume must demonstrate that you have successfully completed the basic education requirement.For GS-07 (or equivalent pay band): Your resume must also demonstrate at least one year of specialized experience at or equivalent to the GS-05 grade level or pay band in the Federal service or equivalent experience in the private or public sector as a Professional Scientist demonstrating knowledge of computer science, application of computer science methods and techniques to store, manipulate, transform or present information by means of computer systems, and knowledge of design characteristics, limitations, and potential applications. Specialized experience includes utilizing basic techniques, procedures, and methods to accomplish developmental computer scientist assignments.For GS-09 (or equivalent pay band): Your resume must also demonstrate at least one year of specialized experience at or equivalent to the GS-07 grade level or pay band in the Federal service or equivalent experience in the private or public sector as a Professional Scientist demonstrating knowledge of computer science, application of computer science methods and techniques to store, manipulate, transform or present information by means of computer systems, and knowledge of design characteristics, limitations, and potential applications. Specialized experience must demonstrate the following: researching, interpreting, and carrying out computer scientist assignments.For GS-11 (or equivalent pay band): Your resume must demonstrate that you have have at least one year of specialized experience at or equivalent to the GS-09 grade level or pay band in the Federal service or equivalent experience in the private or public sector as a Professional Scientist demonstrating knowledge of computer science, application of computer science methods and techniques to store, manipulate, transform or present information by means of computer systems, and knowledge of design characteristics, limitations, and potential applications. Specialized experience must demonstrate the following: 1) researching, interpreting, and carrying out computer scientist assignments; AND 2) providing technical input on the development of software or computing systems.For GS-12 (or equivalent pay band): Your resume must demonstrate at least one year of specialized experience at or equivalent to the GS-11 grade level or pay band in the Federal service or equivalent experience in the private or public sector as a Professional Scientist performing the following duties: 1) researching, interpreting, and carrying out computer scientist assignments; 2) providing technical input on the development of software or computing systems; AND 3) collecting and analyzing system architecture and software data to solve problems, develop reports, and provide recommendations.For GS-13 (or equivalent pay band): Your resume must also demonstrate at least one year of specialized experience at or equivalent to the GS-12 grade level or pay band in the Federal service or equivalent experience in the private or public sector as a Professional Scientist performing the following duties: 1) researching, interpreting, and carrying out computer scientist assignments; 2) developing software systems or high-speed computing systems utilizing algorithms and system architecture types; AND 3) collecting and analyzing system architecture and software data to solve problems, develop reports, and provide recommendations.For GS-14 (or equivalent pay band): Your resume must also demonstrate at least one year of specialized experience at or equivalent to the GS-13 grade level or pay band in the Federal service or equivalent experience in the private or public sector as a Professional Scientist demonstrating a substantive knowledge of computer science. This experience typically include duties such as: managing a operating systems environment, designing new or standard industry modeling software and engineering applications/models researching various data sources, applying systems engineering and operations research techniques to develop/design computer system architecture or system software model systems.For GS-15 (or equivalent pay band): Your resume must also demonstrate at least one year of specialized experience at or equivalent to the GS-14 grade level or pay band in the Federal service or equivalent experience in the private or public sector as a Professional Scientist advising on the following matters: managing a operating systems environment, designing new or standard industry modeling software and engineering applications/models researching various data sources, applying systems engineering and operations research techniques to develop/design computer system architecture or system software model systems.Additional qualification information can be found from the following Office of Personnel Management website:https://www.opm.gov/policy-data-oversight/classification-qualifications/general-schedule-qualification-standards/#url=GS-PROFIndividual Occupational Requirements Linkhttps://www.opm.gov/policy-data-oversight/classification-qualifications/general-schedule-qualification-standards/1500/computer-science-series-1550/EducationApplicants must meet the following basic education requirements of the Office of Personnel Management (OPM) Qualifications Standards Manual:Successful completion of a bachelor's or higher degree in computer science. OR-Successful completion of a bachelor's or higher degree with at least 30 semester hours in a combination of mathematics, statistics, and computer science. At least 15 of the 30 semester hours must be a combination of statistics and mathematics that include differential and integral calculus.Applicants may substitute education for experience in the following situations:For GS-07 (or equivalent pay band): Your resume must demonstrate that you have successfully completed one full year of graduate level education OR you have successfully completed a bachelor's degree with superior academic achievement.For GS-09 (or equivalent pay band): Your resume must demonstrate that you have successfully completed a master's or equivalent graduate degree OR have successfully completed two full years of progressively higher graduate level education leading to a master's degree.For GS-11 (or equivalent pay band): Your resume must demonstrate that you have have successfully completed a Ph.D. or equivalent doctoral degree OR you have successfully completed three full years of progressively higher level graduate education leading to a Ph.D. or equivalent degreeNOTE: Education and experience may be combined for all grade levels for which both education and experience are acceptable.Applications will be accepted from students who expect to complete qualifying education within 9 months from the date of application. If you expect to complete your education within 9 months, please respond to the questionnaire items as if you had already completed your education. We are required to verify that the education has been completed successfully before any applicant can be appointed (report to work).\""
      ]
     },
     "execution_count": 15,
     "metadata": {},
     "output_type": "execute_result"
    }
   ],
   "source": [
    "np.random.choice(descriptions)"
   ]
  },
  {
   "cell_type": "code",
   "execution_count": 19,
   "metadata": {},
   "outputs": [],
   "source": [
    "skills = {'python', 'r', 'spark', 'spss', 'sql', 'pandas', 'numpy',\n",
    "            'cloud', 'docker', 'statistic', 'java', 'scala', 'marketing',\n",
    "            'sas', 'stata', 'excel', 'tableau'}"
   ]
  },
  {
   "cell_type": "code",
   "execution_count": 27,
   "metadata": {},
   "outputs": [],
   "source": [
    "vectorized_descriptions_dict = []\n",
    "for descrip in descriptions:\n",
    "    skills_dict = dict.fromkeys(skills, 0)\n",
    "    for word in descrip.split():\n",
    "        if word.lower() in skills:\n",
    "            skills_dict[word.lower()] = 1\n",
    "    vectorized_descriptions_dict.append(skills_dict)"
   ]
  },
  {
   "cell_type": "code",
   "execution_count": 31,
   "metadata": {},
   "outputs": [
    {
     "data": {
      "text/plain": [
       "list"
      ]
     },
     "execution_count": 31,
     "metadata": {},
     "output_type": "execute_result"
    }
   ],
   "source": [
    "type(vectorized_descriptions_dict)"
   ]
  },
  {
   "cell_type": "code",
   "execution_count": 32,
   "metadata": {},
   "outputs": [],
   "source": [
    "vectorized_descriptions = []\n",
    "for vec in vectorized_descriptions_dict:\n",
    "    vectorized_descriptions.append(vec.values())"
   ]
  },
  {
   "cell_type": "code",
   "execution_count": 34,
   "metadata": {},
   "outputs": [
    {
     "data": {
      "text/plain": [
       "17"
      ]
     },
     "execution_count": 34,
     "metadata": {},
     "output_type": "execute_result"
    }
   ],
   "source": [
    "len(skills)"
   ]
  },
  {
   "cell_type": "code",
   "execution_count": 35,
   "metadata": {},
   "outputs": [],
   "source": [
    "example_datapoint = [1, 1, 1, 1, 1, 0, 0, 0, 0, 0, 1, 0, 0,0,0,0,0]"
   ]
  },
  {
   "cell_type": "code",
   "execution_count": 36,
   "metadata": {},
   "outputs": [
    {
     "data": {
      "text/plain": [
       "True"
      ]
     },
     "execution_count": 36,
     "metadata": {},
     "output_type": "execute_result"
    }
   ],
   "source": [
    "len(skills)==len(example_datapoint)"
   ]
  },
  {
   "cell_type": "code",
   "execution_count": 41,
   "metadata": {},
   "outputs": [
    {
     "name": "stdout",
     "output_type": "stream",
     "text": [
      "Hadoop SOLR Developer\n",
      "Big Data Engineering Internship - Orlando, Summer 2020\n",
      "Hadoop SOLR Developer\n",
      "Video Business Data Scientist, Apple Media Products Data Science\n",
      "Senior Software Engineer - Cash and Collateral\n"
     ]
    }
   ],
   "source": [
    "js_list = []\n",
    "for descrip in vectorized_descriptions:\n",
    "    js = jaccard_score(example_datapoint, list(descrip))\n",
    "    js_list.append(js)\n",
    "order = np.argsort(js_list)[::-1]\n",
    "for o in order[:5]:\n",
    "    print(df['Job_Title'].iloc[o])"
   ]
  },
  {
   "cell_type": "code",
   "execution_count": 38,
   "metadata": {},
   "outputs": [
    {
     "data": {
      "text/plain": [
       "list"
      ]
     },
     "execution_count": 38,
     "metadata": {},
     "output_type": "execute_result"
    }
   ],
   "source": [
    "type(example_datapoint)"
   ]
  },
  {
   "cell_type": "code",
   "execution_count": 39,
   "metadata": {},
   "outputs": [
    {
     "data": {
      "text/plain": [
       "dict_values"
      ]
     },
     "execution_count": 39,
     "metadata": {},
     "output_type": "execute_result"
    }
   ],
   "source": [
    "type(vectorized_descriptions[0])"
   ]
  },
  {
   "cell_type": "code",
   "execution_count": null,
   "metadata": {},
   "outputs": [],
   "source": []
  }
 ],
 "metadata": {
  "kernelspec": {
   "display_name": "Python 3",
   "language": "python",
   "name": "python3"
  },
  "language_info": {
   "codemirror_mode": {
    "name": "ipython",
    "version": 3
   },
   "file_extension": ".py",
   "mimetype": "text/x-python",
   "name": "python",
   "nbconvert_exporter": "python",
   "pygments_lexer": "ipython3",
   "version": "3.7.6"
  }
 },
 "nbformat": 4,
 "nbformat_minor": 4
}
