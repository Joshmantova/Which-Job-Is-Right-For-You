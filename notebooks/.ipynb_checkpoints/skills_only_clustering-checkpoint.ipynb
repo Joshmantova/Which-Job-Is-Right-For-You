{
 "cells": [
  {
   "cell_type": "code",
   "execution_count": 3,
   "metadata": {},
   "outputs": [],
   "source": [
    "import pandas as pd\n",
    "import numpy as np\n"
   ]
  },
  {
   "cell_type": "code",
   "execution_count": 7,
   "metadata": {},
   "outputs": [
    {
     "data": {
      "text/plain": [
       "\"Join ABB and work in a team that is dedicated to creating a future where innovative digital technologies allow greater access to cleaner energy.ABB (ABBN: SIX Swiss Ex) is a technology leader that is driving the digital transformation of industries. With a history of innovation spanning more than 130 years, ABB has four customer-focused, globally leading businesses: Electrification, Industrial Automation, Motion, and Robotics & Discrete Automation, supported by the ABB Ability™ digital platform. ABB’s Power Grids business will be divested to Hitachi in 2020. ABB operates in more than 100 countries with about 147,000 employees. www.abb.comABB is seeking a Data Acquisition Developer for its Broomfield, Colorado location. This role is responsible for designing, developing and maintaining of code within our Oracle, SQL Server and Azure Data platforms to directly support a complex cloud-based customer application. This individual will work on a team of talented engineers responsible for the full lifecycle of production software applications – including large data volumes and data storage systems. Data acquisition, transformation, and analytics will be a primary function of this position. Ideal candidate also has the skill and experience to perform some system administration duties (up to 25%).Your ResponsibilitiesSupport business results by ensuring mission critical data collections/flow required by the Velocity Suite product line continue without interruption  Increase scalability and decrease maintenance burden of current and future data acquisition scripts and processes Communicate and collaborate on a scrum team and across all teams to drive excellent quality in all processes Contribute to our team’s growing set of development platforms, tools, and processes especially within the area of Business Intelligence Support analysts and client support teams with analyses and process improvements Adhere to and collaborate to continually evolve our code standardsYour backgroundBachelor's Degree and a minimum of 3 years of related professional experience including experience with Python and SQL (especially PL/SQL or T-SQL) or relevant skills OR Master's Degree and a minimum of 1 year of related professional experience including experience with Python and SQL (especially PL/SQL or T-SQL) or relevant skills  Additionally, this role could be filled at a more senior level should the candidate meet the following:  Bachelor's Degree and a minimum of 5 years of related professional experience including experience with Python and SQL (especially PL/SQL or T-SQL) or relevant skills. OR Master’s degree and a minimum of 3 years of related professional experience including experience with Python and SQL (especially PL/SQL or T-SQL) or relevant skills. Candidate must already have a work authorization that would permit them to work for ABB in the United States Carefully weigh optimization and reusability of any code/script/process and ensure alterations/rewrites add more resiliency to the collection  Experience in Object oriented Design principles and patterns Degree in Computer Science, Data Science or Engineering is preferred Experience with source code management tools (e.g., Git) Experience using Linux command line tools Ability to create documentation within the code and to support knowledge transfer about the code Capable of solving problems independently as well as collaborating with other developers Efficiency-focused development practices  Systems administration certification/experience in Linux and/or Microsoft is a plus Experience with cloud-based systems on Azure or AWS a plus JavaScript knowledge a plus ETL design methodologies including best practices, performance tuning, architecture Quick resolution of missing data and/or errors (on rare occasions, for very high priority data, weekend or evening work is required) Forward thinking developer drives new processes and ideas, adapts to changing technology stack  Experience with product-driven data modeling a plus  Experience in design and development of data warehouses a plus Experience with any Open Source/ Enterprise ETL monitoring tools a plus Experience in descriptive and exploratory data analysis  Capable of extracting insightful information from data Experience in Applied ML or other data science projects (e.g., Feature Engineering, Predictive Analytics, ML Pipelines) a plus Experience with BI tools (Tableau, Spotfire, Qlikview, and/or Power BI) a plus Effective communication with Product Managers, Data Research Analysts, Information Technology, Software Developers, Database Administrators and other Data Acquisition Developers on a regular basis to remove roadblocks and learn about our team, product and processes Participate in the software development life cycle utilizing Agile/Scrum methodologies Participation in cross-team projects Demonstrate solid technical proficiency in own competency area by performing a variety of technology/engineering assignments which shows independent ability to recognize problems and provide input to solutions Requirements gathering and analysis activities such as storyboarding, developing use cases, and creating functional requirements specifications Contribute to the estimation of effort and breakdown of work into tasks Forward thinking developer drives new processes and ideas, adapts to changing technology stack  Strong team player with a high degree of self-motivationMore About UsBring your very own sense of pride and purpose as you help us drive forward the Fourth Industrial Revolution – creating a sustainable future for our planet, and your career. Join ABB and harness the power of our diverse global network, as you collaborate with and learn from our world-class teams. Above all, challenge yourself every day. Let’s write the future, together.Equal Employment Opportunity and Affirmative Action at ABBABB is an Equal Employment Opportunity (EEO) and Affirmative Action Employer encouraging diversity in the workplace.All qualified applicants will receive consideration for employment without regard to their race, creed, color, ancestry, religion, sex, national origin, citizen status, age, sexual orientation, gender identity, disability, marital status, family medical leave status, or protected veterans status. For more information regarding your (EEO) rights as an applicant, please visit the following websites:http://www1.eeoc.gov/employers/upload/eeoc_self_print_poster.pdfhttp://www1.eeoc.gov/employers/poster.cfm. http://www.dol.gov/ofccp/regs/compliance/posters/pdf/OFCCP_EEO_Supplement_Final_JRF_QA_508c.pdfAs an Equal Employment Opportunity and Affirmative Action Employer, applicants may request to review the Affirmative Action Plan of a particular ABB facility between the hours of 9:00 A.M. - 5:00 P.M. EST Monday through Friday by contacting an ABB HR Representative at 1-888-694-7762.Protected veterans and qualified individuals with a disability may request a reasonable accommodation if you are unable or limited in your ability to use or access ABB's career site as a result of your disability. You may request reasonable accommodations by calling an ABB HR Representative at 1-888-694-7762 or by sending an email to US-AskHR@abb.com. Resumes and applications will not be accepted in this manner.Grid Automation\""
      ]
     },
     "execution_count": 7,
     "metadata": {},
     "output_type": "execute_result"
    }
   ],
   "source": [
    "df = pd.read_csv('../Datasets/df_all_linkedin.csv')\n",
    "df['Description'][0]"
   ]
  },
  {
   "cell_type": "code",
   "execution_count": null,
   "metadata": {},
   "outputs": [],
   "source": [
    "skills = {\n",
    "    'python', 'sql', \n",
    "}"
   ]
  }
 ],
 "metadata": {
  "kernelspec": {
   "display_name": "Python 3",
   "language": "python",
   "name": "python3"
  },
  "language_info": {
   "codemirror_mode": {
    "name": "ipython",
    "version": 3
   },
   "file_extension": ".py",
   "mimetype": "text/x-python",
   "name": "python",
   "nbconvert_exporter": "python",
   "pygments_lexer": "ipython3",
   "version": "3.7.6"
  }
 },
 "nbformat": 4,
 "nbformat_minor": 2
}
